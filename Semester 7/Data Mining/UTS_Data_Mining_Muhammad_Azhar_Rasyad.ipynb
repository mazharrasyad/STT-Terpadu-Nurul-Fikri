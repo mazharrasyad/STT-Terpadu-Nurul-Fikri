{
  "nbformat": 4,
  "nbformat_minor": 0,
  "metadata": {
    "colab": {
      "name": "UTS Data Mining_Muhammad Azhar Rasyad.ipynb",
      "provenance": [],
      "collapsed_sections": []
    },
    "kernelspec": {
      "name": "python3",
      "display_name": "Python 3"
    }
  },
  "cells": [
    {
      "cell_type": "markdown",
      "metadata": {
        "id": "hvMg1E6pkd42"
      },
      "source": [
        "# **UTS - Data Mining**\n",
        "*   Muhammad Azhar Rasyad\n",
        "*   0110217029\n",
        "\n"
      ]
    },
    {
      "cell_type": "markdown",
      "metadata": {
        "id": "D0F6EET53lEY"
      },
      "source": [
        "## **Import related module**"
      ]
    },
    {
      "cell_type": "code",
      "metadata": {
        "id": "FLkybInFjU21"
      },
      "source": [
        "import pandas as pd\n",
        "from sklearn.tree import DecisionTreeClassifier\n",
        "from sklearn.naive_bayes import MultinomialNB\n",
        "from sklearn.metrics import classification_report, confusion_matrix, accuracy_score"
      ],
      "execution_count": 1,
      "outputs": []
    },
    {
      "cell_type": "markdown",
      "metadata": {
        "id": "l1gbH4Fj3nTP"
      },
      "source": [
        "## **Preparing Data**"
      ]
    },
    {
      "cell_type": "code",
      "metadata": {
        "id": "hUcmwjwRlP67"
      },
      "source": [
        "data_train = {\n",
        "    'no': [1, 2, 3, 4, 5, 6, 7, 8, 9, 10],\n",
        "    'warna': ['Hitam', 'Putih', 'Cokelat', 'Hitam', 'Hitam', 'Cokelat', 'Cokelat', 'Putih', 'Putih', 'Cokelat'],\n",
        "    'bulu': ['Panjang', 'Panjang', 'Pendek', 'Pendek', 'Gimbal', 'Gimbal', 'Panjang', 'Pendek', 'Pendek', 'Gimbal'],\n",
        "    'makanan_kesukaan': ['Wortel', 'Wortel', 'Kangkung', 'Kangkung', 'Rumput', 'Rumput', 'Rumput', 'Wortel', 'Kangkung', 'Kangkung'],\n",
        "    'jenis': ['A', 'A', 'B', 'B', 'C', 'A', 'B', 'B', 'C', 'C'],\n",
        "}\n",
        "\n",
        "data_test = {\n",
        "    'no': [1, 2, 3, 4, 5],\n",
        "    'warna': ['Hitam', 'Putih', 'Cokelat', 'Putih', 'Cokelat'],\n",
        "    'bulu': ['Gimbal', 'Pendek', 'Panjang', 'Panjang', 'Gimbal'],\n",
        "    'makanan_kesukaan': ['Rumput', 'Wortel', 'Kangkung', 'Rumput', 'Kangkung'],\n",
        "    'prediksi_jenis': ['?', '?', '?', '?', '?'],\n",
        "    'jenis_sebenarnya': ['A', 'B', 'C', 'C', 'B']\n",
        "}\n",
        "\n",
        "data_train = pd.DataFrame(data_train)\n",
        "data_test = pd.DataFrame(data_test)\n",
        "data_hasil = data_test.copy()"
      ],
      "execution_count": 2,
      "outputs": []
    },
    {
      "cell_type": "code",
      "metadata": {
        "colab": {
          "base_uri": "https://localhost:8080/",
          "height": 363
        },
        "id": "Fnx8G0G5lfoG",
        "outputId": "a1f996cb-c7cf-42dc-af5d-3a5e9977e3f3"
      },
      "source": [
        "data_train"
      ],
      "execution_count": 3,
      "outputs": [
        {
          "output_type": "execute_result",
          "data": {
            "text/html": [
              "<div>\n",
              "<style scoped>\n",
              "    .dataframe tbody tr th:only-of-type {\n",
              "        vertical-align: middle;\n",
              "    }\n",
              "\n",
              "    .dataframe tbody tr th {\n",
              "        vertical-align: top;\n",
              "    }\n",
              "\n",
              "    .dataframe thead th {\n",
              "        text-align: right;\n",
              "    }\n",
              "</style>\n",
              "<table border=\"1\" class=\"dataframe\">\n",
              "  <thead>\n",
              "    <tr style=\"text-align: right;\">\n",
              "      <th></th>\n",
              "      <th>no</th>\n",
              "      <th>warna</th>\n",
              "      <th>bulu</th>\n",
              "      <th>makanan_kesukaan</th>\n",
              "      <th>jenis</th>\n",
              "    </tr>\n",
              "  </thead>\n",
              "  <tbody>\n",
              "    <tr>\n",
              "      <th>0</th>\n",
              "      <td>1</td>\n",
              "      <td>Hitam</td>\n",
              "      <td>Panjang</td>\n",
              "      <td>Wortel</td>\n",
              "      <td>A</td>\n",
              "    </tr>\n",
              "    <tr>\n",
              "      <th>1</th>\n",
              "      <td>2</td>\n",
              "      <td>Putih</td>\n",
              "      <td>Panjang</td>\n",
              "      <td>Wortel</td>\n",
              "      <td>A</td>\n",
              "    </tr>\n",
              "    <tr>\n",
              "      <th>2</th>\n",
              "      <td>3</td>\n",
              "      <td>Cokelat</td>\n",
              "      <td>Pendek</td>\n",
              "      <td>Kangkung</td>\n",
              "      <td>B</td>\n",
              "    </tr>\n",
              "    <tr>\n",
              "      <th>3</th>\n",
              "      <td>4</td>\n",
              "      <td>Hitam</td>\n",
              "      <td>Pendek</td>\n",
              "      <td>Kangkung</td>\n",
              "      <td>B</td>\n",
              "    </tr>\n",
              "    <tr>\n",
              "      <th>4</th>\n",
              "      <td>5</td>\n",
              "      <td>Hitam</td>\n",
              "      <td>Gimbal</td>\n",
              "      <td>Rumput</td>\n",
              "      <td>C</td>\n",
              "    </tr>\n",
              "    <tr>\n",
              "      <th>5</th>\n",
              "      <td>6</td>\n",
              "      <td>Cokelat</td>\n",
              "      <td>Gimbal</td>\n",
              "      <td>Rumput</td>\n",
              "      <td>A</td>\n",
              "    </tr>\n",
              "    <tr>\n",
              "      <th>6</th>\n",
              "      <td>7</td>\n",
              "      <td>Cokelat</td>\n",
              "      <td>Panjang</td>\n",
              "      <td>Rumput</td>\n",
              "      <td>B</td>\n",
              "    </tr>\n",
              "    <tr>\n",
              "      <th>7</th>\n",
              "      <td>8</td>\n",
              "      <td>Putih</td>\n",
              "      <td>Pendek</td>\n",
              "      <td>Wortel</td>\n",
              "      <td>B</td>\n",
              "    </tr>\n",
              "    <tr>\n",
              "      <th>8</th>\n",
              "      <td>9</td>\n",
              "      <td>Putih</td>\n",
              "      <td>Pendek</td>\n",
              "      <td>Kangkung</td>\n",
              "      <td>C</td>\n",
              "    </tr>\n",
              "    <tr>\n",
              "      <th>9</th>\n",
              "      <td>10</td>\n",
              "      <td>Cokelat</td>\n",
              "      <td>Gimbal</td>\n",
              "      <td>Kangkung</td>\n",
              "      <td>C</td>\n",
              "    </tr>\n",
              "  </tbody>\n",
              "</table>\n",
              "</div>"
            ],
            "text/plain": [
              "   no    warna     bulu makanan_kesukaan jenis\n",
              "0   1    Hitam  Panjang           Wortel     A\n",
              "1   2    Putih  Panjang           Wortel     A\n",
              "2   3  Cokelat   Pendek         Kangkung     B\n",
              "3   4    Hitam   Pendek         Kangkung     B\n",
              "4   5    Hitam   Gimbal           Rumput     C\n",
              "5   6  Cokelat   Gimbal           Rumput     A\n",
              "6   7  Cokelat  Panjang           Rumput     B\n",
              "7   8    Putih   Pendek           Wortel     B\n",
              "8   9    Putih   Pendek         Kangkung     C\n",
              "9  10  Cokelat   Gimbal         Kangkung     C"
            ]
          },
          "metadata": {
            "tags": []
          },
          "execution_count": 3
        }
      ]
    },
    {
      "cell_type": "code",
      "metadata": {
        "colab": {
          "base_uri": "https://localhost:8080/",
          "height": 206
        },
        "id": "X3kCyZhBl0XS",
        "outputId": "ba9d6e92-5c02-4e90-a7d3-8201bf470a68"
      },
      "source": [
        "data_test"
      ],
      "execution_count": 4,
      "outputs": [
        {
          "output_type": "execute_result",
          "data": {
            "text/html": [
              "<div>\n",
              "<style scoped>\n",
              "    .dataframe tbody tr th:only-of-type {\n",
              "        vertical-align: middle;\n",
              "    }\n",
              "\n",
              "    .dataframe tbody tr th {\n",
              "        vertical-align: top;\n",
              "    }\n",
              "\n",
              "    .dataframe thead th {\n",
              "        text-align: right;\n",
              "    }\n",
              "</style>\n",
              "<table border=\"1\" class=\"dataframe\">\n",
              "  <thead>\n",
              "    <tr style=\"text-align: right;\">\n",
              "      <th></th>\n",
              "      <th>no</th>\n",
              "      <th>warna</th>\n",
              "      <th>bulu</th>\n",
              "      <th>makanan_kesukaan</th>\n",
              "      <th>prediksi_jenis</th>\n",
              "      <th>jenis_sebenarnya</th>\n",
              "    </tr>\n",
              "  </thead>\n",
              "  <tbody>\n",
              "    <tr>\n",
              "      <th>0</th>\n",
              "      <td>1</td>\n",
              "      <td>Hitam</td>\n",
              "      <td>Gimbal</td>\n",
              "      <td>Rumput</td>\n",
              "      <td>?</td>\n",
              "      <td>A</td>\n",
              "    </tr>\n",
              "    <tr>\n",
              "      <th>1</th>\n",
              "      <td>2</td>\n",
              "      <td>Putih</td>\n",
              "      <td>Pendek</td>\n",
              "      <td>Wortel</td>\n",
              "      <td>?</td>\n",
              "      <td>B</td>\n",
              "    </tr>\n",
              "    <tr>\n",
              "      <th>2</th>\n",
              "      <td>3</td>\n",
              "      <td>Cokelat</td>\n",
              "      <td>Panjang</td>\n",
              "      <td>Kangkung</td>\n",
              "      <td>?</td>\n",
              "      <td>C</td>\n",
              "    </tr>\n",
              "    <tr>\n",
              "      <th>3</th>\n",
              "      <td>4</td>\n",
              "      <td>Putih</td>\n",
              "      <td>Panjang</td>\n",
              "      <td>Rumput</td>\n",
              "      <td>?</td>\n",
              "      <td>C</td>\n",
              "    </tr>\n",
              "    <tr>\n",
              "      <th>4</th>\n",
              "      <td>5</td>\n",
              "      <td>Cokelat</td>\n",
              "      <td>Gimbal</td>\n",
              "      <td>Kangkung</td>\n",
              "      <td>?</td>\n",
              "      <td>B</td>\n",
              "    </tr>\n",
              "  </tbody>\n",
              "</table>\n",
              "</div>"
            ],
            "text/plain": [
              "   no    warna     bulu makanan_kesukaan prediksi_jenis jenis_sebenarnya\n",
              "0   1    Hitam   Gimbal           Rumput              ?                A\n",
              "1   2    Putih   Pendek           Wortel              ?                B\n",
              "2   3  Cokelat  Panjang         Kangkung              ?                C\n",
              "3   4    Putih  Panjang           Rumput              ?                C\n",
              "4   5  Cokelat   Gimbal         Kangkung              ?                B"
            ]
          },
          "metadata": {
            "tags": []
          },
          "execution_count": 4
        }
      ]
    },
    {
      "cell_type": "markdown",
      "metadata": {
        "id": "r4IkFHR85Rg9"
      },
      "source": [
        "## **Ubah label kategori menjadi nilai number**"
      ]
    },
    {
      "cell_type": "code",
      "metadata": {
        "id": "lwYZTbBA60h_"
      },
      "source": [
        "for cols in data_train.select_dtypes(include='object') :\n",
        "  data_train[cols] = data_train[cols].astype('category').cat.codes\n",
        "\n",
        "for cols in data_test.select_dtypes(include='object') :\n",
        "  data_test[cols] = data_test[cols].astype('category').cat.codes"
      ],
      "execution_count": 5,
      "outputs": []
    },
    {
      "cell_type": "code",
      "metadata": {
        "colab": {
          "base_uri": "https://localhost:8080/",
          "height": 363
        },
        "id": "v_zwX7ba6VNH",
        "outputId": "adb30554-a74a-42ca-89a1-c15428013652"
      },
      "source": [
        "data_train"
      ],
      "execution_count": 6,
      "outputs": [
        {
          "output_type": "execute_result",
          "data": {
            "text/html": [
              "<div>\n",
              "<style scoped>\n",
              "    .dataframe tbody tr th:only-of-type {\n",
              "        vertical-align: middle;\n",
              "    }\n",
              "\n",
              "    .dataframe tbody tr th {\n",
              "        vertical-align: top;\n",
              "    }\n",
              "\n",
              "    .dataframe thead th {\n",
              "        text-align: right;\n",
              "    }\n",
              "</style>\n",
              "<table border=\"1\" class=\"dataframe\">\n",
              "  <thead>\n",
              "    <tr style=\"text-align: right;\">\n",
              "      <th></th>\n",
              "      <th>no</th>\n",
              "      <th>warna</th>\n",
              "      <th>bulu</th>\n",
              "      <th>makanan_kesukaan</th>\n",
              "      <th>jenis</th>\n",
              "    </tr>\n",
              "  </thead>\n",
              "  <tbody>\n",
              "    <tr>\n",
              "      <th>0</th>\n",
              "      <td>1</td>\n",
              "      <td>1</td>\n",
              "      <td>1</td>\n",
              "      <td>2</td>\n",
              "      <td>0</td>\n",
              "    </tr>\n",
              "    <tr>\n",
              "      <th>1</th>\n",
              "      <td>2</td>\n",
              "      <td>2</td>\n",
              "      <td>1</td>\n",
              "      <td>2</td>\n",
              "      <td>0</td>\n",
              "    </tr>\n",
              "    <tr>\n",
              "      <th>2</th>\n",
              "      <td>3</td>\n",
              "      <td>0</td>\n",
              "      <td>2</td>\n",
              "      <td>0</td>\n",
              "      <td>1</td>\n",
              "    </tr>\n",
              "    <tr>\n",
              "      <th>3</th>\n",
              "      <td>4</td>\n",
              "      <td>1</td>\n",
              "      <td>2</td>\n",
              "      <td>0</td>\n",
              "      <td>1</td>\n",
              "    </tr>\n",
              "    <tr>\n",
              "      <th>4</th>\n",
              "      <td>5</td>\n",
              "      <td>1</td>\n",
              "      <td>0</td>\n",
              "      <td>1</td>\n",
              "      <td>2</td>\n",
              "    </tr>\n",
              "    <tr>\n",
              "      <th>5</th>\n",
              "      <td>6</td>\n",
              "      <td>0</td>\n",
              "      <td>0</td>\n",
              "      <td>1</td>\n",
              "      <td>0</td>\n",
              "    </tr>\n",
              "    <tr>\n",
              "      <th>6</th>\n",
              "      <td>7</td>\n",
              "      <td>0</td>\n",
              "      <td>1</td>\n",
              "      <td>1</td>\n",
              "      <td>1</td>\n",
              "    </tr>\n",
              "    <tr>\n",
              "      <th>7</th>\n",
              "      <td>8</td>\n",
              "      <td>2</td>\n",
              "      <td>2</td>\n",
              "      <td>2</td>\n",
              "      <td>1</td>\n",
              "    </tr>\n",
              "    <tr>\n",
              "      <th>8</th>\n",
              "      <td>9</td>\n",
              "      <td>2</td>\n",
              "      <td>2</td>\n",
              "      <td>0</td>\n",
              "      <td>2</td>\n",
              "    </tr>\n",
              "    <tr>\n",
              "      <th>9</th>\n",
              "      <td>10</td>\n",
              "      <td>0</td>\n",
              "      <td>0</td>\n",
              "      <td>0</td>\n",
              "      <td>2</td>\n",
              "    </tr>\n",
              "  </tbody>\n",
              "</table>\n",
              "</div>"
            ],
            "text/plain": [
              "   no  warna  bulu  makanan_kesukaan  jenis\n",
              "0   1      1     1                 2      0\n",
              "1   2      2     1                 2      0\n",
              "2   3      0     2                 0      1\n",
              "3   4      1     2                 0      1\n",
              "4   5      1     0                 1      2\n",
              "5   6      0     0                 1      0\n",
              "6   7      0     1                 1      1\n",
              "7   8      2     2                 2      1\n",
              "8   9      2     2                 0      2\n",
              "9  10      0     0                 0      2"
            ]
          },
          "metadata": {
            "tags": []
          },
          "execution_count": 6
        }
      ]
    },
    {
      "cell_type": "code",
      "metadata": {
        "colab": {
          "base_uri": "https://localhost:8080/",
          "height": 206
        },
        "id": "UHzjM5t58Yev",
        "outputId": "9f7d73d2-8252-45bd-c4c2-e902139fd8bb"
      },
      "source": [
        "data_test"
      ],
      "execution_count": 7,
      "outputs": [
        {
          "output_type": "execute_result",
          "data": {
            "text/html": [
              "<div>\n",
              "<style scoped>\n",
              "    .dataframe tbody tr th:only-of-type {\n",
              "        vertical-align: middle;\n",
              "    }\n",
              "\n",
              "    .dataframe tbody tr th {\n",
              "        vertical-align: top;\n",
              "    }\n",
              "\n",
              "    .dataframe thead th {\n",
              "        text-align: right;\n",
              "    }\n",
              "</style>\n",
              "<table border=\"1\" class=\"dataframe\">\n",
              "  <thead>\n",
              "    <tr style=\"text-align: right;\">\n",
              "      <th></th>\n",
              "      <th>no</th>\n",
              "      <th>warna</th>\n",
              "      <th>bulu</th>\n",
              "      <th>makanan_kesukaan</th>\n",
              "      <th>prediksi_jenis</th>\n",
              "      <th>jenis_sebenarnya</th>\n",
              "    </tr>\n",
              "  </thead>\n",
              "  <tbody>\n",
              "    <tr>\n",
              "      <th>0</th>\n",
              "      <td>1</td>\n",
              "      <td>1</td>\n",
              "      <td>0</td>\n",
              "      <td>1</td>\n",
              "      <td>0</td>\n",
              "      <td>0</td>\n",
              "    </tr>\n",
              "    <tr>\n",
              "      <th>1</th>\n",
              "      <td>2</td>\n",
              "      <td>2</td>\n",
              "      <td>2</td>\n",
              "      <td>2</td>\n",
              "      <td>0</td>\n",
              "      <td>1</td>\n",
              "    </tr>\n",
              "    <tr>\n",
              "      <th>2</th>\n",
              "      <td>3</td>\n",
              "      <td>0</td>\n",
              "      <td>1</td>\n",
              "      <td>0</td>\n",
              "      <td>0</td>\n",
              "      <td>2</td>\n",
              "    </tr>\n",
              "    <tr>\n",
              "      <th>3</th>\n",
              "      <td>4</td>\n",
              "      <td>2</td>\n",
              "      <td>1</td>\n",
              "      <td>1</td>\n",
              "      <td>0</td>\n",
              "      <td>2</td>\n",
              "    </tr>\n",
              "    <tr>\n",
              "      <th>4</th>\n",
              "      <td>5</td>\n",
              "      <td>0</td>\n",
              "      <td>0</td>\n",
              "      <td>0</td>\n",
              "      <td>0</td>\n",
              "      <td>1</td>\n",
              "    </tr>\n",
              "  </tbody>\n",
              "</table>\n",
              "</div>"
            ],
            "text/plain": [
              "   no  warna  bulu  makanan_kesukaan  prediksi_jenis  jenis_sebenarnya\n",
              "0   1      1     0                 1               0                 0\n",
              "1   2      2     2                 2               0                 1\n",
              "2   3      0     1                 0               0                 2\n",
              "3   4      2     1                 1               0                 2\n",
              "4   5      0     0                 0               0                 1"
            ]
          },
          "metadata": {
            "tags": []
          },
          "execution_count": 7
        }
      ]
    },
    {
      "cell_type": "markdown",
      "metadata": {
        "id": "E4GuxNiL37gQ"
      },
      "source": [
        "## **Set feature and target variable**"
      ]
    },
    {
      "cell_type": "code",
      "metadata": {
        "id": "xg3rBkPZ2YCH"
      },
      "source": [
        "feature_cols = ['warna', 'bulu', 'makanan_kesukaan']\n",
        "\n",
        "x_train = data_train[feature_cols]\n",
        "y_train = data_train.jenis\n",
        "\n",
        "x_test = data_test[feature_cols]\n",
        "y_test = data_test.jenis_sebenarnya"
      ],
      "execution_count": 8,
      "outputs": []
    },
    {
      "cell_type": "markdown",
      "metadata": {
        "id": "TxtnEttt4feY"
      },
      "source": [
        "## **Decision Tree**"
      ]
    },
    {
      "cell_type": "code",
      "metadata": {
        "id": "XHZVGPcq3WUg",
        "colab": {
          "base_uri": "https://localhost:8080/"
        },
        "outputId": "63712a3a-67d6-4a8d-e38f-c95b1417ea8a"
      },
      "source": [
        "clf = DecisionTreeClassifier(max_depth=2)\n",
        "clf = clf.fit(x_train, y_train)\n",
        "\n",
        "y_pred = clf.predict(x_test)\n",
        "\n",
        "result = confusion_matrix(y_test, y_pred)\n",
        "print(\"Confusion Matrix:\")\n",
        "print(result)\n",
        "\n",
        "result1 = classification_report(y_test, y_pred)\n",
        "print(\"Classification Report:\")\n",
        "print(result1)\n",
        "\n",
        "result2 = accuracy_score(y_test, y_pred)\n",
        "print(\"Accuracy:\", result2)"
      ],
      "execution_count": 9,
      "outputs": [
        {
          "output_type": "stream",
          "text": [
            "Confusion Matrix:\n",
            "[[0 0 1]\n",
            " [0 1 1]\n",
            " [0 0 2]]\n",
            "Classification Report:\n",
            "              precision    recall  f1-score   support\n",
            "\n",
            "           0       0.00      0.00      0.00         1\n",
            "           1       1.00      0.50      0.67         2\n",
            "           2       0.50      1.00      0.67         2\n",
            "\n",
            "    accuracy                           0.60         5\n",
            "   macro avg       0.50      0.50      0.44         5\n",
            "weighted avg       0.60      0.60      0.53         5\n",
            "\n",
            "Accuracy: 0.6\n"
          ],
          "name": "stdout"
        },
        {
          "output_type": "stream",
          "text": [
            "/usr/local/lib/python3.6/dist-packages/sklearn/metrics/_classification.py:1272: UndefinedMetricWarning: Precision and F-score are ill-defined and being set to 0.0 in labels with no predicted samples. Use `zero_division` parameter to control this behavior.\n",
            "  _warn_prf(average, modifier, msg_start, len(result))\n"
          ],
          "name": "stderr"
        }
      ]
    },
    {
      "cell_type": "markdown",
      "metadata": {
        "id": "1TO8aW2qptEa"
      },
      "source": [
        "## **Naive Bayes**"
      ]
    },
    {
      "cell_type": "code",
      "metadata": {
        "colab": {
          "base_uri": "https://localhost:8080/"
        },
        "id": "7Akp3l4yjpCe",
        "outputId": "fedd0e61-94d0-46e4-87ff-61695ff4ff39"
      },
      "source": [
        "clf2 = MultinomialNB()\n",
        "clf2 = clf2.fit(x_train, y_train)\n",
        "\n",
        "y_pred2 = clf2.predict(x_test)\n",
        "\n",
        "result = confusion_matrix(y_test, y_pred2)\n",
        "print(\"Confusion Matrix:\")\n",
        "print(result)\n",
        "\n",
        "result1 = classification_report(y_test, y_pred2)\n",
        "print(\"Classification Report:\")\n",
        "print(result1)\n",
        "\n",
        "result2 = accuracy_score(y_test, y_pred2)\n",
        "print(\"Accuracy:\", result2)"
      ],
      "execution_count": 10,
      "outputs": [
        {
          "output_type": "stream",
          "text": [
            "Confusion Matrix:\n",
            "[[1 0 0]\n",
            " [0 2 0]\n",
            " [0 1 1]]\n",
            "Classification Report:\n",
            "              precision    recall  f1-score   support\n",
            "\n",
            "           0       1.00      1.00      1.00         1\n",
            "           1       0.67      1.00      0.80         2\n",
            "           2       1.00      0.50      0.67         2\n",
            "\n",
            "    accuracy                           0.80         5\n",
            "   macro avg       0.89      0.83      0.82         5\n",
            "weighted avg       0.87      0.80      0.79         5\n",
            "\n",
            "Accuracy: 0.8\n"
          ],
          "name": "stdout"
        }
      ]
    },
    {
      "cell_type": "markdown",
      "metadata": {
        "id": "fvpmWYYpqLIV"
      },
      "source": [
        "## **Hasil**"
      ]
    },
    {
      "cell_type": "code",
      "metadata": {
        "id": "2YGE0joMf0Pb"
      },
      "source": [
        "data_hasil['prediksi_jenis_decision_tree'] = y_pred\n",
        "data_hasil['prediksi_jenis_naive_bayes'] = y_pred2\n",
        "\n",
        "data_hasil['prediksi_jenis_decision_tree'].replace({0:'A', 1:'B', 2:'C'}, inplace=True)\n",
        "data_hasil['prediksi_jenis_naive_bayes'].replace({0:'A', 1:'B', 2:'C'}, inplace=True)"
      ],
      "execution_count": 11,
      "outputs": []
    },
    {
      "cell_type": "code",
      "metadata": {
        "colab": {
          "base_uri": "https://localhost:8080/",
          "height": 206
        },
        "id": "dw6gmL6RjoDt",
        "outputId": "d42bfbf1-8425-4647-bc5a-0c67e8dab3f0"
      },
      "source": [
        "data_hasil"
      ],
      "execution_count": 12,
      "outputs": [
        {
          "output_type": "execute_result",
          "data": {
            "text/html": [
              "<div>\n",
              "<style scoped>\n",
              "    .dataframe tbody tr th:only-of-type {\n",
              "        vertical-align: middle;\n",
              "    }\n",
              "\n",
              "    .dataframe tbody tr th {\n",
              "        vertical-align: top;\n",
              "    }\n",
              "\n",
              "    .dataframe thead th {\n",
              "        text-align: right;\n",
              "    }\n",
              "</style>\n",
              "<table border=\"1\" class=\"dataframe\">\n",
              "  <thead>\n",
              "    <tr style=\"text-align: right;\">\n",
              "      <th></th>\n",
              "      <th>no</th>\n",
              "      <th>warna</th>\n",
              "      <th>bulu</th>\n",
              "      <th>makanan_kesukaan</th>\n",
              "      <th>prediksi_jenis</th>\n",
              "      <th>jenis_sebenarnya</th>\n",
              "      <th>prediksi_jenis_decision_tree</th>\n",
              "      <th>prediksi_jenis_naive_bayes</th>\n",
              "    </tr>\n",
              "  </thead>\n",
              "  <tbody>\n",
              "    <tr>\n",
              "      <th>0</th>\n",
              "      <td>1</td>\n",
              "      <td>Hitam</td>\n",
              "      <td>Gimbal</td>\n",
              "      <td>Rumput</td>\n",
              "      <td>?</td>\n",
              "      <td>A</td>\n",
              "      <td>C</td>\n",
              "      <td>A</td>\n",
              "    </tr>\n",
              "    <tr>\n",
              "      <th>1</th>\n",
              "      <td>2</td>\n",
              "      <td>Putih</td>\n",
              "      <td>Pendek</td>\n",
              "      <td>Wortel</td>\n",
              "      <td>?</td>\n",
              "      <td>B</td>\n",
              "      <td>B</td>\n",
              "      <td>B</td>\n",
              "    </tr>\n",
              "    <tr>\n",
              "      <th>2</th>\n",
              "      <td>3</td>\n",
              "      <td>Cokelat</td>\n",
              "      <td>Panjang</td>\n",
              "      <td>Kangkung</td>\n",
              "      <td>?</td>\n",
              "      <td>C</td>\n",
              "      <td>C</td>\n",
              "      <td>B</td>\n",
              "    </tr>\n",
              "    <tr>\n",
              "      <th>3</th>\n",
              "      <td>4</td>\n",
              "      <td>Putih</td>\n",
              "      <td>Panjang</td>\n",
              "      <td>Rumput</td>\n",
              "      <td>?</td>\n",
              "      <td>C</td>\n",
              "      <td>C</td>\n",
              "      <td>C</td>\n",
              "    </tr>\n",
              "    <tr>\n",
              "      <th>4</th>\n",
              "      <td>5</td>\n",
              "      <td>Cokelat</td>\n",
              "      <td>Gimbal</td>\n",
              "      <td>Kangkung</td>\n",
              "      <td>?</td>\n",
              "      <td>B</td>\n",
              "      <td>C</td>\n",
              "      <td>B</td>\n",
              "    </tr>\n",
              "  </tbody>\n",
              "</table>\n",
              "</div>"
            ],
            "text/plain": [
              "   no    warna  ... prediksi_jenis_decision_tree prediksi_jenis_naive_bayes\n",
              "0   1    Hitam  ...                            C                          A\n",
              "1   2    Putih  ...                            B                          B\n",
              "2   3  Cokelat  ...                            C                          B\n",
              "3   4    Putih  ...                            C                          C\n",
              "4   5  Cokelat  ...                            C                          B\n",
              "\n",
              "[5 rows x 8 columns]"
            ]
          },
          "metadata": {
            "tags": []
          },
          "execution_count": 12
        }
      ]
    },
    {
      "cell_type": "code",
      "metadata": {
        "id": "K57SZ-HKrpfI"
      },
      "source": [
        ""
      ],
      "execution_count": 12,
      "outputs": []
    }
  ]
}